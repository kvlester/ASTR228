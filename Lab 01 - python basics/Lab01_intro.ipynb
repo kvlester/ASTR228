{
  "cells": [
    {
      "cell_type": "markdown",
      "metadata": {
        "id": "kWj3amstScZC"
      },
      "source": [
        "# Lab 1  -  Intro to Python\n",
        "\n",
        "In this lab you will practice basic python functions and working with data. Make sure to read the instructions carefully! You'll be running code, writing your own code, and answering questions all within this notebook.\n",
        "\n",
        "Python skills:\n",
        "- importing packages\n",
        "- defining variables and arrays\n",
        "- doing math\n",
        "- making plots\n",
        "- reading in data from a file\n",
        "\n"
      ]
    },
    {
      "cell_type": "markdown",
      "metadata": {
        "id": "7cQGvaF6CW7V"
      },
      "source": [
        "---\n",
        "## Running code in Google Colab\n",
        "\n",
        "Google Colaboratory runs iPython Notebook files (.ipynb), which use Python \"shells\" created within this Colab document. (These are the grey boxes below.)\n",
        "\n",
        "\\\n",
        "**How to \"run\" code:**\n",
        "\n",
        "If you hover over the grey code box the [ ] symbol at the top left turns into a play button.  Press this play button to execute the code within the box.  You can also click on a cell and hit shift-enter or shift-return.\n",
        "\n",
        "\n",
        "If there are problems, a error message then pops up below. Otherwise, the result of the code appears below.\n",
        "\n",
        "Try running the cell below:\n"
      ]
    },
    {
      "cell_type": "code",
      "execution_count": null,
      "metadata": {
        "id": "-U8KoTDzfMdi"
      },
      "outputs": [],
      "source": [
        "# This is a code box in Google Colab.\n",
        "# <- and this is a comment (no code is executed right here); you can tell by the hashtag that comes first.\n",
        "# Comments are a really great tool for annotating your code.\n",
        "\n",
        "print('this is code that will actually do something')"
      ]
    },
    {
      "cell_type": "markdown",
      "source": [
        "**Writing comments**\n",
        "\n",
        "An important aspect of coding is writing comments, which help you and others understand what your code does. It's good practice to write comments frequently to explain what is happening.\n",
        "\n",
        "There are two types of comments:\n",
        "- comments that are in a separate text cell (like this one)\n",
        "- comments that are inside a code cell (see below)\n",
        "\n",
        "To write a comment in a code cell, put a `#` before the words, so python knows that this line is just a note and not actual code.\n",
        "\n",
        "\n",
        "\\\n",
        "Write a comment in the cell below telling me what your favorite food is:"
      ],
      "metadata": {
        "id": "xgB9Q23L2tIB"
      }
    },
    {
      "cell_type": "code",
      "source": [
        "\n"
      ],
      "metadata": {
        "id": "Vbmdy8L73cUx"
      },
      "execution_count": null,
      "outputs": []
    },
    {
      "cell_type": "markdown",
      "source": [
        "(Note that if you run this cell, nothing happens. You didn't tell python to do anything, you just wrote a comment)"
      ],
      "metadata": {
        "id": "ddib-7A5Tj43"
      }
    },
    {
      "cell_type": "markdown",
      "metadata": {
        "id": "o-v-_UvHprT0"
      },
      "source": [
        "**Using outside files in Google Colab:**\n",
        "\n",
        "Note: Colab can't read files stored on your computer, so you need to upload files to the current notebook session in order to use them:\n",
        "\n",
        "- Click on the folder icon on left menu\n",
        "- Click the \"upload to session storage button\"\n",
        "- Choose the file to upload. You will see it listed in the files menu, once it's done uploading.\n",
        "\n",
        "\n",
        "\n"
      ]
    },
    {
      "cell_type": "markdown",
      "metadata": {
        "id": "4iIlG7JEaV9z"
      },
      "source": [
        "![picture](https://drive.google.com/uc?id=1JRPX7r30HVILyM4Ne2RAjG-s_sCwPTR7)"
      ]
    },
    {
      "cell_type": "markdown",
      "metadata": {
        "id": "9sX6rFGda7jQ"
      },
      "source": [
        "Note -- if you close your Google Colab page and return to it later, check if this file is still listed.  You may need to re-upload it."
      ]
    },
    {
      "cell_type": "markdown",
      "metadata": {
        "id": "GNB1a_ejiIcG"
      },
      "source": [
        "---\n",
        "## Importing packages"
      ]
    },
    {
      "cell_type": "markdown",
      "source": [
        "We need to load (\"import\") a few python libraries (\"packages\") in order to use them. Packages are incredibly useful as they often contain hundreds to thousands of built-in functions to help us code. Typically, all packages are imported at the beginning of a new Python script. The usual syntax to import a package is:\n",
        "```\n",
        "import package_name\n",
        "```\n",
        "\\\n",
        "For this lab, we'll need a math package (*numpy*) and a plotting package (*matplotlib*). We are going to give these packages a nickname so they are easier to type in our code:\n",
        "```\n",
        "import package_name as nickname\n",
        "```\n",
        "For example, we'll import *numpy* with the nickname \"np\" and *matplotlib.pyplot* as \"plt\".  Which means we only have to type \"plt\" instead of \"matplotlib.pyplot\" when we want to call a function from this package.\n",
        "\n",
        "\n",
        "Run the cell below to import these packages:"
      ],
      "metadata": {
        "id": "IPD0W9XRrfQE"
      }
    },
    {
      "cell_type": "code",
      "execution_count": null,
      "metadata": {
        "id": "SHIgISnAiWIp"
      },
      "outputs": [],
      "source": [
        "import numpy as np                    # math & array library\n",
        "\n",
        "import matplotlib.pyplot as plt       # plotting library\n",
        "\n",
        "%matplotlib inline\n",
        "# setting to output the plots within the notebook"
      ]
    },
    {
      "cell_type": "markdown",
      "metadata": {
        "id": "oThPzUHDH45_"
      },
      "source": [
        "---\n",
        "## Variables & data types"
      ]
    },
    {
      "cell_type": "markdown",
      "source": [
        "When using Python, we can define \"variables\" as certain data structures or types. The cells below show how we can define a variable as a single integer, float, or string.\n",
        "\n",
        "Python has a variety of built-in data types that each have unique attributes/functions. For the purposes of this tutorial, we will only mention a few of the most commonly used data types, but recommend the following resource if you are curious to learn more: [Python Data Types](https://https://www.w3schools.com/python/python_datatypes.asp).\n",
        "\n",
        "- **strings** (*str*) -- words or phrases. Strings are denoted by quotation marks around a word or phrase within code. If we have a variable `x` which is not a string, we can also convert it to one with the following: `str(x)`. You can also glue strings together by adding them.\n",
        "\n",
        "- **integers** (*int*) = countable, whole number values. We commonly use integers to index an array, because we're counting which array position a number is in. A good analogy for discrete numbers like integers would be the floors an elevator can visit -- you can visit the first, second, third floor, etc, but you can't go to the 9.75 floor.   If we define a variable as some whole number, without any decimal, it will automatically be defined as an *int*.\n",
        "\n",
        "- **floats** (*float*) = floating-point variables, a data type that contains decimal information.\n",
        "\n",
        "Run the cell below to define example variables:\n"
      ],
      "metadata": {
        "id": "BxbCAy33rkyO"
      }
    },
    {
      "cell_type": "code",
      "source": [
        "# example string\n",
        "a = 'hello'\n",
        "\n",
        "# example integer\n",
        "b = 4\n",
        "\n",
        "# example float\n",
        "c = 3.14\n"
      ],
      "metadata": {
        "id": "tvfxEupi5OdL"
      },
      "execution_count": null,
      "outputs": []
    },
    {
      "cell_type": "markdown",
      "source": [
        "Note that if you want to see what value a variable has, you can print it to the screen with the `print()` command:\n"
      ],
      "metadata": {
        "id": "gNoWCE8W5oca"
      }
    },
    {
      "cell_type": "code",
      "source": [
        "print(a)"
      ],
      "metadata": {
        "id": "b8FCdOcr59In"
      },
      "execution_count": null,
      "outputs": []
    },
    {
      "cell_type": "markdown",
      "source": [
        "Practice defining your own variables and printing them out below. Make sure to include comments for which type of variable it is and what the code is doing!"
      ],
      "metadata": {
        "id": "O8lYHO706A-c"
      }
    },
    {
      "cell_type": "code",
      "execution_count": null,
      "metadata": {
        "id": "R9U1x9-qKpbW"
      },
      "outputs": [],
      "source": [
        "# write your code here\n",
        "\n",
        "\n",
        "\n"
      ]
    },
    {
      "cell_type": "markdown",
      "metadata": {
        "id": "6ixS90D8CW7Y"
      },
      "source": [
        "**Math operations:**\n",
        "\n",
        "Python can do basic math operations:\n",
        "\n",
        "add `+`\n",
        "\n",
        "subtract `-`\n",
        "\n",
        "multiply `*`\n",
        "\n",
        "divide `/`\n",
        "\n",
        "exponent `**`\n",
        "\n",
        "Run the cell below to see some examples:"
      ]
    },
    {
      "cell_type": "code",
      "execution_count": null,
      "metadata": {
        "id": "JP-6tQVMCW7Y"
      },
      "outputs": [],
      "source": [
        "# examples\n",
        "x = 4\n",
        "y = x + 10\n",
        "y = x**2         # write exponents with ** (instead of ^)\n",
        "y = (x+2) * 3/7  # follows order of operations"
      ]
    },
    {
      "cell_type": "markdown",
      "source": [
        "Next, practice calculating the area of a circle:  $ A = \\pi R^2$\n",
        "- define a variable for the radius\n",
        "- define a variable for the area using the equation\n",
        "- print out the value for the area (bonus: with description and units too)\n",
        "\n",
        "Note, you can use the exact value of $\\pi$ with `np.pi`"
      ],
      "metadata": {
        "id": "llOWU0mY6uOu"
      }
    },
    {
      "cell_type": "code",
      "source": [
        "# area of a circle\n",
        "\n"
      ],
      "metadata": {
        "id": "PI0eTkMt6_vd"
      },
      "execution_count": null,
      "outputs": []
    },
    {
      "cell_type": "markdown",
      "metadata": {
        "id": "-Z39qGjaByQe"
      },
      "source": [
        "---\n",
        "## Arrays\n",
        "\n",
        "Arrays (or \"lists\") are sets of values and can have several dimensions. Brackets are used to denote the array, and commas are used to separate values.\n",
        "\n",
        "```\n",
        "x = [10, 20, 30]\n",
        "```\n",
        "\n",
        "You can choose a certain element in an array by giving the index value. Python indices start at 0, so the first element in an array is `[0]`:\n",
        "```\n",
        "x[0]\n",
        "```\n",
        "\n",
        "\n",
        "You can also use an integer variable as index number:\n",
        "```\n",
        "i = 0\n",
        "x[i] = 2\n",
        "```\n",
        "\n",
        "The cell below has an example of doing math with a basic python list.\n",
        "\n",
        "1. Add comments to this cell to describe what the code is doing\n",
        "\n",
        "2. Run this cell to see what happens"
      ]
    },
    {
      "cell_type": "code",
      "execution_count": null,
      "metadata": {
        "id": "14YTciqIBx_U"
      },
      "outputs": [],
      "source": [
        "y = [0,1,2,3,4,5,6]\n",
        "\n",
        "z = y * 2\n",
        "\n",
        "print(z)"
      ]
    },
    {
      "cell_type": "markdown",
      "metadata": {
        "id": "A-Fy_TL-GW1d"
      },
      "source": [
        "By defining z as above, we made a new array containing 2 copies of y. Oops! What we really wanted to do was multiply every value by 2. This is where the *numpy* package comes in really handy, as it seemlessly allows you to do math with arrays.\n",
        "\n",
        "\\\n",
        "**Numpy arrays:**\n",
        "\n",
        "To turn a regular python list into a numpy array, use the `np.array()` function. Run the cell below to see the difference:"
      ]
    },
    {
      "cell_type": "code",
      "execution_count": null,
      "metadata": {
        "id": "ZrPETDDsHl9Q"
      },
      "outputs": [],
      "source": [
        "# Let's define the same array\n",
        "y = [0,1,2,3,4,5,6]\n",
        "\n",
        "# Convert y to a numpy array using np.array()\n",
        "y = np.array(y)\n",
        "# or\n",
        "y = np.array([0,1,2,3,4,5,6])\n",
        "\n",
        "# Now what does z look like?\n",
        "z = y * 2\n",
        "print(z)"
      ]
    },
    {
      "cell_type": "markdown",
      "metadata": {
        "id": "ei73Yi0Lr_Ht"
      },
      "source": [
        "If you want to know how long an array is (i.e., how many elements it has), you can use the `len()` length function:"
      ]
    },
    {
      "cell_type": "code",
      "execution_count": null,
      "metadata": {
        "id": "FXHqW4iHsDly"
      },
      "outputs": [],
      "source": [
        "print(len(y))"
      ]
    },
    {
      "cell_type": "markdown",
      "source": [
        "Your turn!\n",
        "1. Create two separate numpy arrays\n",
        "2. Multiply them together\n",
        "3. Change a few values in the new array\n",
        "4. Find the length of the new array\n",
        "\n",
        "Print out the results of each step and make sure to add comments!"
      ],
      "metadata": {
        "id": "AFbYQjBN_BEe"
      }
    },
    {
      "cell_type": "code",
      "source": [
        "# write your code here\n",
        "\n",
        "\n"
      ],
      "metadata": {
        "id": "BZBJt6HK_Asv"
      },
      "execution_count": null,
      "outputs": []
    },
    {
      "cell_type": "markdown",
      "metadata": {
        "id": "3ppvI_qfCW7Z"
      },
      "source": [
        "For multi-dimensional arrays, you write the index individually for each dimension:\n",
        "`[row, column]`"
      ]
    },
    {
      "cell_type": "code",
      "execution_count": null,
      "metadata": {
        "id": "2fAjVXaPUmyG"
      },
      "outputs": [],
      "source": [
        "# define a two dimensional array\n",
        "arr = np.array([[1,2,3,4],[5,6,7,8]])\n",
        "\n",
        "# print the whole array\n",
        "print(arr)\n",
        "\n",
        "# print the value in the first row [0], second position [1]\n",
        "print(arr[0,1])\n"
      ]
    },
    {
      "cell_type": "markdown",
      "source": [
        "Try printing out the third value in the second row:"
      ],
      "metadata": {
        "id": "Of9dWXzO-ToD"
      }
    },
    {
      "cell_type": "code",
      "source": [
        "# write your code here\n",
        "\n"
      ],
      "metadata": {
        "id": "U9OlcjK9-YF8"
      },
      "execution_count": null,
      "outputs": []
    },
    {
      "cell_type": "markdown",
      "metadata": {
        "id": "XfrcOqGuCW7a"
      },
      "source": [
        "---\n",
        "## Plotting\n",
        "\n",
        "The basic plot command using *matplotlib* is:\n",
        "`plt.plot(x, y)`\n",
        "\n",
        "Run the cell below to see an example:"
      ]
    },
    {
      "cell_type": "code",
      "execution_count": null,
      "metadata": {
        "id": "X1qupJUOCW7b"
      },
      "outputs": [],
      "source": [
        "# define some arrays to plot\n",
        "x = np.array([0, 1, 2, 3, 4, 5, 6, 7, 8, 9])\n",
        "y = np.array([0, 1, 4, 9, 16, 25, 36, 49, 64, 81])\n",
        "\n",
        "plt.plot(x, y)      # plot the data\n",
        "plt.show()          # output the plot"
      ]
    },
    {
      "cell_type": "markdown",
      "metadata": {
        "id": "sEzt_dEnCW7b"
      },
      "source": [
        "You can edit the plot appearance using:\n",
        "- [marker](https://matplotlib.org/stable/api/markers_api.html#module-matplotlib.markers) = symbol shape (circle, diamond, square)\n",
        "- [color](https://matplotlib.org/stable/gallery/color/named_colors.html#css-colors) = plot color\n",
        "- [linestyle](https://matplotlib.org/stable/gallery/lines_bars_and_markers/linestyles.html) = style of the line (solid, dashed, dotted...)\n",
        "- label = name for this curve to use in a legend\n",
        "\n",
        "within the `plt.plot()` command.\n",
        "\n",
        "You can change the plot's axes using:\n",
        "- `plt.xlabel()`, `plt.ylabel()` = x,y axis titles\n",
        "- `plt.xlim()`, `plt.ylim()` = x,y axis ranges\n",
        "\n",
        "or save the plot using:\n",
        "- `plt.savefig('figure.png')`\n",
        "\n",
        "with whatever filename you want. The extension determines what type of file is saved (png, pdf...)\n",
        "\n",
        "\n",
        "(See [matplotlib documentation](https://matplotlib.org/stable/tutorials/introductory/quick_start.html) for more options)\n",
        "\n",
        "\\\n",
        "Run the cell below to see an example of a more customized plot:"
      ]
    },
    {
      "cell_type": "code",
      "execution_count": null,
      "metadata": {
        "id": "xNIgncCRCW7b"
      },
      "outputs": [],
      "source": [
        "x = np.array([0, 1, 2, 3, 4, 5, 6, 7, 8, 9])\n",
        "\n",
        "# plot curves in different styles\n",
        "plt.plot(x, x,    color='red',   linestyle='solid', label='line')\n",
        "plt.plot(x, x**2, color='blue',  linestyle='dashed', label='squared')\n",
        "plt.plot(x, x**3, color='green', linestyle='none',  marker='o', label='cubed')\n",
        "\n",
        "# change the axes range to x=0-10 and y=0-1000\n",
        "plt.xlim(0, 10)\n",
        "plt.ylim(0, 1000)\n",
        "\n",
        "# give it some axes titles\n",
        "plt.xlabel('x axis')\n",
        "plt.ylabel('y axis')\n",
        "\n",
        "# add a legend (will read the \"label\" setting in plt.plot command)\n",
        "plt.legend()\n",
        "\n",
        "# show the plot\n",
        "plt.show()"
      ]
    },
    {
      "cell_type": "markdown",
      "source": [
        "(Don't worry, you'll make your own plot in the next step!)"
      ],
      "metadata": {
        "id": "0-PnTovPkXcU"
      }
    },
    {
      "cell_type": "markdown",
      "source": [
        "## Reading in data from a file\n",
        "\n",
        "A large part of astronomy research is analyzing data from another source, which will often be stored as a text file with columns of data. (Usually a CSV or ascii table). There are many different ways to read in data, but we're going to use  numpy's `loadtxt()` function. This function reads each column into a numpy array, ready to be used for analysis.\n",
        "\n",
        "For example:\n",
        "```\n",
        "# read in data file\n",
        "x, y = np.loadtxt('data.csv', delimiter=',', skiprows=0, unpack=True)\n",
        "```\n",
        "where\n",
        "- `data.csv` is the filename\n",
        "- `delimiter` tells numpy where to separate the columns (at a comma)\n",
        "- `skiprows` tells numpy how many lines to skip. For example, if the file has a header row with column names, you'll want to set `skiprows=1` to skip this line.)\n",
        "- `unpack` tells numpy that we want each column to go into its own array, which we called 'x' and 'y'."
      ],
      "metadata": {
        "id": "44NkjhAfbO1M"
      }
    },
    {
      "cell_type": "markdown",
      "source": [
        "We're going to practice reading in the file 'Lab01_data.csv', which reports the number of natural distasters in the US over time. The file has multiple columns:\n",
        "- Year\n",
        "- Number of floods\n",
        "- Number of landslides\n",
        "- Number of extreme storms\n",
        "- Number of wildfires\n",
        "\n",
        "\n",
        "Reminder -- You'll first need to upload this file to Colab in order to use it!\n",
        "\n",
        "Then, write code in the cell below to read in the file and put each column of data into its own array.  \n"
      ],
      "metadata": {
        "id": "qXqrWcTycZlJ"
      }
    },
    {
      "cell_type": "code",
      "source": [
        "# write code here\n",
        "\n"
      ],
      "metadata": {
        "id": "l_vbWubvbOC7"
      },
      "execution_count": null,
      "outputs": []
    },
    {
      "cell_type": "markdown",
      "source": [
        "**Question:** How many storms were there in 1982?  Add whatever code you need to figure this out (without looking at the file), then write your answer as a comment in the cell below."
      ],
      "metadata": {
        "id": "5mk11rEzhSDB"
      }
    },
    {
      "cell_type": "code",
      "source": [
        "# write your answer here\n",
        "#"
      ],
      "metadata": {
        "id": "HQ87jvgZhZ9g"
      },
      "execution_count": null,
      "outputs": []
    },
    {
      "cell_type": "markdown",
      "source": [
        "## Putting it all together\n",
        "\n",
        "Finally, let's combine some of these skills.\n",
        "\n",
        "Write some code to:\n",
        "1. Calculate an array with the total number of distasters each year\n",
        "2. Make a plot showing \\\n",
        "a) the total number of distasters over time \\\n",
        "b) the number of one type of distaster (your choice)\n",
        "3. Make sure your plot has:\\\n",
        "a) axis labels \\\n",
        "b) [bonus] different plot colors/styles for each curve \\\n",
        "c) [bonus] a legend\n",
        "\n",
        "Make sure to add comments!"
      ],
      "metadata": {
        "id": "v0kZ3356hoxA"
      }
    },
    {
      "cell_type": "code",
      "source": [
        "# write your code here\n",
        "\n",
        "\n",
        "\n",
        "\n"
      ],
      "metadata": {
        "id": "6ITapPJrX7jb"
      },
      "execution_count": null,
      "outputs": []
    },
    {
      "cell_type": "markdown",
      "metadata": {
        "id": "TKFgKwIkBT0e"
      },
      "source": [
        "---\n",
        "## Final steps\n",
        "\n",
        "**Turning in your lab**\n",
        "\n",
        "If using Colab -- Click File --> Save a copy to Drive. Save the file to your shared Lab folder.\n",
        "\n",
        "\n",
        "If using Jupyter --\n",
        "Save this notebook to your computer, then upload it to your shared Lab folder in Google Drive.\n",
        "\n",
        "\n",
        "\n",
        "\n",
        "\\\n",
        "**Other coding resources:**\n",
        "\n",
        "Programming can be an incredibly daunting and confusing skill for beginners, but have no fear! There are many resources that are intended to slowly introduce new concepts and make learning how to code more accessible. Here are a few free resources to help get you started:\n",
        "*   [Codecademy](https://www.codecademy.com/)\n",
        "*   [Data Camp](https://www.datacamp.com/)\n",
        "*   [Astrowhit Tutorials](https://www.astrowhit.com/astronomy-research-tutorial-repository)\n"
      ]
    }
  ],
  "metadata": {
    "colab": {
      "provenance": [],
      "toc_visible": true
    },
    "kernelspec": {
      "display_name": "Python 3 (ipykernel)",
      "language": "python",
      "name": "python3"
    },
    "language_info": {
      "codemirror_mode": {
        "name": "ipython",
        "version": 3
      },
      "file_extension": ".py",
      "mimetype": "text/x-python",
      "name": "python",
      "nbconvert_exporter": "python",
      "pygments_lexer": "ipython3",
      "version": "3.9.12"
    }
  },
  "nbformat": 4,
  "nbformat_minor": 0
}
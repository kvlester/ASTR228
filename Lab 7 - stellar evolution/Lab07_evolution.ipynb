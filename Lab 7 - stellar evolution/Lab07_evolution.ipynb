{
  "cells": [
    {
      "cell_type": "markdown",
      "metadata": {
        "id": "kWj3amstScZC"
      },
      "source": [
        "# Lab 7  -  Stellar evolution\n",
        "\n",
        "In this lab you will look at the evolutionary tracks for stars of different masses to find their life stages.\n",
        "\n",
        "Make sure to read the instructions carefully and answer any written questions within the notebook.\n",
        "\n",
        "There are also a few optional bonus steps, if you have extra time or would like a challenge.\n",
        "\n",
        "Astronomy skills:\n",
        "- Stefan-Boltzmann law\n",
        "- HR diagram\n",
        "- stellar evolution\n",
        "\n",
        "\n",
        "Python skills:\n",
        "- math\n",
        "- selecting subsets\n",
        "\n",
        "\n",
        "\n",
        "\n",
        "\n"
      ]
    },
    {
      "cell_type": "markdown",
      "source": [
        "## Set up\n",
        "Run the cell below to read in the packages you'll need for this lab."
      ],
      "metadata": {
        "id": "uaqDecfUHm8E"
      }
    },
    {
      "cell_type": "code",
      "source": [
        "import numpy as np\n",
        "import matplotlib.pyplot as plt\n",
        "%matplotlib inline"
      ],
      "metadata": {
        "id": "CsWo4MVeHhJt"
      },
      "execution_count": null,
      "outputs": []
    },
    {
      "cell_type": "markdown",
      "source": [
        "## Step 1 - read in the model tracks\n",
        "\n",
        "We are going to use simulated stellar evolution tracks from the [MIST](https://waps.cfa.harvard.edu/MIST/index.html) computer models, which predict how the temperature and luminosity of a star changes over time. The models start at the main sequence and end just after the asymptotic giant branch.\n",
        "\n",
        "\n",
        "There are three models included in the Lab 07 folder:\n",
        "- model_1Msun.csv = model for a 1 solar mass star\n",
        "- model_2Msun.csv = model for a 2 solar mass star\n",
        "- model_5Msun.csv = model for a 5 solar mass star\n",
        "\n",
        "These files have four columns: evolutionary phase (index), time (in years), effective temperature (in Kelvin), and luminosity (in solar luminosities).\n",
        "\n",
        "Write some code below to read in the data from these files."
      ],
      "metadata": {
        "id": "asiJAqaZHvzb"
      }
    },
    {
      "cell_type": "code",
      "source": [
        "# code here\n",
        "\n"
      ],
      "metadata": {
        "id": "cEVfpBGWHhSE"
      },
      "execution_count": null,
      "outputs": []
    },
    {
      "cell_type": "markdown",
      "source": [
        "## Step 2 - HR diagram\n",
        "\n",
        "Make a plot of the HR diagram showing all 3 model tracks.\n",
        "\n",
        "As usual, your plot should have:\n",
        "- axis labels\n",
        "- blue stars to the left\n",
        "- bright stars at the top\n",
        "- logarithmic axes\n",
        "\n",
        "Here is an example for logarithmic axis scaling:\n",
        "```\n",
        "plt.plot(x,y)\n",
        "plt.xscale('log')   # change x axis scaling\n",
        "plt.yscale('log')   # change y axis scaling\n",
        "```"
      ],
      "metadata": {
        "id": "4GZQZxfrIshC"
      }
    },
    {
      "cell_type": "code",
      "source": [
        "# plot here\n",
        "\n"
      ],
      "metadata": {
        "id": "ttaMem-vLiyL"
      },
      "execution_count": null,
      "outputs": []
    },
    {
      "cell_type": "markdown",
      "source": [
        "## Step 3 - Mystery stars\n",
        "\n",
        "Let's look at some mystery stars:\n",
        "1. star 1 with T = 4700 K and L = 12 Lsun\n",
        "2. star 2 with T = 8600 K and L = 20 Lsun\n",
        "3. star 3 with T = 5000 K and L = 1700 Lsun\n",
        "4. star 4 with T = 3500 K and L = 10,000 Lsun\n",
        "\n",
        "Write some code below to calculate the radius of each star in solar radii).  Reminder that you can find the values of common constants [here](http://userpages.irap.omp.eu/~sbottinelli/Downloads/ism-constants.pdf).\n",
        "\n",
        "\n"
      ],
      "metadata": {
        "id": "Bb0HEI8so8OH"
      }
    },
    {
      "cell_type": "code",
      "source": [
        "# code here\n",
        "\n"
      ],
      "metadata": {
        "id": "6aKAUBQpMd-B"
      },
      "execution_count": null,
      "outputs": []
    },
    {
      "cell_type": "markdown",
      "source": [
        "**Question:**  Which star is the biggest? Which is the smallest?"
      ],
      "metadata": {
        "id": "p547CuhhMmCq"
      }
    },
    {
      "cell_type": "code",
      "source": [
        "# write your answers here\n",
        "\n",
        "# biggest =\n",
        "\n",
        "# smallest ="
      ],
      "metadata": {
        "id": "JE25rDE4MrN6"
      },
      "execution_count": null,
      "outputs": []
    },
    {
      "cell_type": "markdown",
      "source": [
        "Make a copy of your HR diagram from Step 2, and overplot these mystery stars as single points.\n",
        "\n",
        "Hint: `plt.scatter()` might be easier to use with single points, but `plt.plot()` will work too if you specify the [symbol](https://matplotlib.org/stable/api/markers_api.html).\n",
        "\n",
        "Optional: Add a legend so a viewer knows which line goes with which model and which point goes with which mystery star!"
      ],
      "metadata": {
        "id": "S_jHkfXOMeF6"
      }
    },
    {
      "cell_type": "code",
      "source": [
        "# new version of plot here\n",
        "\n"
      ],
      "metadata": {
        "id": "_6FpQJpmp1W2"
      },
      "execution_count": null,
      "outputs": []
    },
    {
      "cell_type": "markdown",
      "source": [
        "**Question:**\n",
        "What is the likely mass and evolutionary stage for each of the four mystery stars?\n"
      ],
      "metadata": {
        "id": "X3DANBxdrC4l"
      }
    },
    {
      "cell_type": "code",
      "source": [
        "# write your answers here:\n",
        "\n",
        "# Star 1 -\n",
        "\n",
        "# Star 2 -\n",
        "\n",
        "# Star 3 -\n",
        "\n",
        "# Star 4 -"
      ],
      "metadata": {
        "id": "pKhnjWe6rKpA"
      },
      "execution_count": null,
      "outputs": []
    },
    {
      "cell_type": "markdown",
      "source": [
        "## Step 4 - Age estimates\n",
        "\n",
        "We can use computer models to estimate the ages of real stars.\n",
        "\n",
        "Let's start with mystery Star 1 (T = 4700 K and L = 12 Lsun). We want to find the closest point on the model evolutionary track to the star's real properties, then the age of this point will tell us the age of the mystery star.\n",
        "\n",
        "1. Calculate the distance from Star 1's location on the HR diagram to all the other points in the model track (that matches best).\n",
        "\n",
        "2. Find the index of the model point with the minimum distance to the observed parameters. (Hint, we used `np.argmax()` in Labs 2 & 6 to find the index of the *maximum*...)\n",
        "\n",
        "3. Find the corresponding time (age) for this model point."
      ],
      "metadata": {
        "id": "cboi80nWs7hf"
      }
    },
    {
      "cell_type": "code",
      "source": [
        "# code here\n",
        "\n"
      ],
      "metadata": {
        "id": "Ui2v7Pw8s65r"
      },
      "execution_count": null,
      "outputs": []
    },
    {
      "cell_type": "markdown",
      "source": [
        "**Self check**: You should get an age of about 11.1 billion years! If you didn't, check in with your neighbor or professor to see what's going wrong."
      ],
      "metadata": {
        "id": "u30ecfwXuvOD"
      }
    },
    {
      "cell_type": "markdown",
      "source": [
        "Next, find the ages for the other mystery stars using the same method. Make sure to use the model track that best fits each star!"
      ],
      "metadata": {
        "id": "P2OJGHdeu7uc"
      }
    },
    {
      "cell_type": "code",
      "source": [
        "# code here\n"
      ],
      "metadata": {
        "id": "DsToXF2ls680"
      },
      "execution_count": null,
      "outputs": []
    },
    {
      "cell_type": "markdown",
      "source": [
        "---\n",
        "## Questions\n",
        "Which mystery star is the youngest? ... the oldest? ... the furthest along in its evolution?\n",
        "\n",
        "  "
      ],
      "metadata": {
        "id": "BwFEXfDbSqow"
      }
    },
    {
      "cell_type": "code",
      "source": [
        "# write your answers here\n",
        "\n",
        "#"
      ],
      "metadata": {
        "id": "4ExDL4SuGHf4"
      },
      "execution_count": null,
      "outputs": []
    },
    {
      "cell_type": "markdown",
      "source": [
        "---\n",
        "## Bonus [optional]\n",
        "\n",
        "If you have time left over, look at each of the evolutionary phases individually. This uses the \"phase\" column in the data files, where each stage of evolution gets a certain number:\n",
        "- 0 = main sequence\n",
        "- 2 = red giant branch\n",
        "- 3 = horizontal branch\n",
        "- 4, 5 = asymptotic giant branch\n",
        "\n",
        "Choose one evolutionary model to investigate in more detail, then either:\n",
        "1. write some code to plot this evolutionary track with each evolutionary stage as a different color line.\n",
        "\n",
        "or\n",
        "\n",
        "2. write some code to calculate how long each evolutionary stage lasts (in years).\n",
        "\n"
      ],
      "metadata": {
        "id": "H5lSDi8gYSEI"
      }
    },
    {
      "cell_type": "code",
      "source": [
        "# optional code here\n",
        "\n"
      ],
      "metadata": {
        "id": "a8vLwqxPSGE1"
      },
      "execution_count": null,
      "outputs": []
    },
    {
      "cell_type": "markdown",
      "metadata": {
        "id": "TKFgKwIkBT0e"
      },
      "source": [
        "---\n",
        "## Final steps\n",
        "\n",
        "**Turning in your lab**\n",
        "\n",
        "If using Colab -- Click File --> Save a copy to Drive. Save the file to your shared Lab folder.\n",
        "\n",
        "\n",
        "If using Jupyter --\n",
        "Save this notebook to your computer, then upload it to your shared Lab folder in Google Drive."
      ]
    }
  ],
  "metadata": {
    "colab": {
      "provenance": [],
      "toc_visible": true
    },
    "kernelspec": {
      "display_name": "Python 3 (ipykernel)",
      "language": "python",
      "name": "python3"
    },
    "language_info": {
      "codemirror_mode": {
        "name": "ipython",
        "version": 3
      },
      "file_extension": ".py",
      "mimetype": "text/x-python",
      "name": "python",
      "nbconvert_exporter": "python",
      "pygments_lexer": "ipython3",
      "version": "3.9.12"
    }
  },
  "nbformat": 4,
  "nbformat_minor": 0
}
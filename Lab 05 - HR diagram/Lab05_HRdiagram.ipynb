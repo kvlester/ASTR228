{
  "cells": [
    {
      "cell_type": "markdown",
      "metadata": {
        "id": "kWj3amstScZC"
      },
      "source": [
        "# Lab 5  -  HR Diagram\n",
        "\n",
        "In this lab you will practice making an Hertzprung-Russell (HR) diagram using the properties of real stars. Make sure to read the instructions carefully and answer any written questions within the notebook. There are also a few optional bonus steps, if you have extra time or would like a challenge.\n",
        "\n",
        "Astronomy skills:\n",
        "- parallax\n",
        "- apparent & absolute magnitudes\n",
        "- HR diagram\n",
        "\n",
        "\n",
        "Python skills:\n",
        "- conditional statements\n",
        "- selecting subsets of arrays\n",
        "- plot formatting\n",
        "\n",
        "\n",
        "\n",
        "\n"
      ]
    },
    {
      "cell_type": "markdown",
      "source": [
        "## Set up\n",
        "Run the cell below to read in the packages you'll need for this lab."
      ],
      "metadata": {
        "id": "uaqDecfUHm8E"
      }
    },
    {
      "cell_type": "code",
      "source": [
        "import numpy as np\n",
        "import matplotlib.pyplot as plt\n",
        "%matplotlib inline"
      ],
      "metadata": {
        "id": "CsWo4MVeHhJt"
      },
      "execution_count": null,
      "outputs": []
    },
    {
      "cell_type": "markdown",
      "source": [
        "## Step 1 - read in the data\n",
        "\n",
        "The file for today's lab is called \"Lab05_data.csv\".  It constains data for nearby stars from the Yale General Catalogue of Trigonometric Parallaxes. Open the file in Colab or on your computer so you can see what data you'll be working with.\n",
        "\n",
        "\\\n",
        "\n",
        "**Question:** What data are given in this file? Write a comment below to describe each quantity and its units."
      ],
      "metadata": {
        "id": "asiJAqaZHvzb"
      }
    },
    {
      "cell_type": "code",
      "source": [
        "# answer here\n",
        "#"
      ],
      "metadata": {
        "id": "xcaj0wDPHhNv"
      },
      "execution_count": null,
      "outputs": []
    },
    {
      "cell_type": "markdown",
      "source": [
        "Now read in the data file so you can use it!"
      ],
      "metadata": {
        "id": "Dh0RCs2iIa0p"
      }
    },
    {
      "cell_type": "code",
      "source": [
        "# code here\n",
        "\n"
      ],
      "metadata": {
        "id": "cEVfpBGWHhSE"
      },
      "execution_count": null,
      "outputs": []
    },
    {
      "cell_type": "markdown",
      "source": [
        "You may have noticed that the parallax measurements have units of milli-arcsec (mas), instead of arcsec. We need to convert them before moving on! Write some code to convert the parallax and parallax uncertainty to arcsec:"
      ],
      "metadata": {
        "id": "7eSyuEHrUny2"
      }
    },
    {
      "cell_type": "code",
      "source": [
        "# code here\n",
        "\n"
      ],
      "metadata": {
        "id": "nS0sYVHaUyCn"
      },
      "execution_count": null,
      "outputs": []
    },
    {
      "cell_type": "markdown",
      "source": [
        "## Step 2 - absolute magnitude\n",
        "\n",
        "The usual HR diagram is a plot of luminosity versus temperature, but we will make a modified version called a \"color-magnitude diagram\" (CMD). A color-magnitude diagram is a plot of absolute V magnitude versus B-V color. Therefore, we need to calculate the distance and the absolute magnitude of each star. Write some code below to do this, and make sure to add comments to explain what you're doing!\n",
        "\n",
        "Hint, you can use log base 10 with `np.log10()`. For example:\n",
        " ```\n",
        " a = np.log10(48264.)\n",
        " # or\n",
        " x = [100, 200, 300]\n",
        " y = np.log10(x)\n",
        " ```"
      ],
      "metadata": {
        "id": "4GZQZxfrIshC"
      }
    },
    {
      "cell_type": "code",
      "source": [
        "# code here\n",
        "\n"
      ],
      "metadata": {
        "id": "ttaMem-vLiyL"
      },
      "execution_count": null,
      "outputs": []
    },
    {
      "cell_type": "markdown",
      "source": [
        "## Step 3 - color-magnitude diagram\n",
        "First, let's make a CMD using the entire dataset.\n",
        "Your plot should have B-V color on the x-axis, and absolute V magnitude on the y-axis.\n",
        "\n",
        "Things to remember in your plot:\n",
        "- You're an astronomer, which means your diagram should have bright stars AT THE TOP and hot stars TO THE LEFT.\n",
        "- Label your axes (with units)\n",
        "- Use small point sizes! You are going to plot over 6000 stars, so use small dots or it'll all run together. You can do this with the `ms` (marker size) setting within a plot command:\n",
        "`plt.plot(x, y, ms = 2)`\n",
        "\n"
      ],
      "metadata": {
        "id": "l4LHv8C3KxpT"
      }
    },
    {
      "cell_type": "code",
      "source": [
        "# plot CMD here\n",
        "\n"
      ],
      "metadata": {
        "id": "uIwdYLZaNAGH"
      },
      "execution_count": null,
      "outputs": []
    },
    {
      "cell_type": "markdown",
      "source": [
        "Now it looks like a real HR diagram! You should be able to make out the main sequence, giant branch, and white dwarf regions on your plot.  \n",
        "\n",
        "\\\n",
        "\n",
        "**Self check** - Compare your plot with a classmate's to make sure you're on the right track!\n"
      ],
      "metadata": {
        "id": "kDRQyWvLOKMS"
      }
    },
    {
      "cell_type": "markdown",
      "source": [
        "## Step 4 - selecting subsamples\n",
        "\n",
        "Astronomers often start with a large data set but only want to keep certain stars, so we need a way to select only the stars we want and cut down our sample.  One way to do this is with the `np.where()` function. If we give this function a condition, it will find all the indices in our array where this condition is true. Here are common condition statements in python:\n",
        "- Equals: `a == b`\n",
        "- Not Equals: `a != b`\n",
        "- Less than: `a < b`\n",
        "- Less than or equal to: `a <= b`\n",
        "- Greater than: `a > b`\n",
        "- Greater than or equal to: `a >= b`\n",
        "\n",
        "\n",
        "In the example below, the code finds the locations where the array `names` is equal to \"Gemini\". It will output these indicies into the array `good`. Run this cell to see how it works:\n",
        "\n"
      ],
      "metadata": {
        "id": "F9Pt85p5PHj1"
      }
    },
    {
      "cell_type": "code",
      "source": [
        "# array with telescope names\n",
        "names = np.array(['Gemini', 'Keck', 'WIYN', 'SALT', 'CTIO', 'Gemini'])\n",
        "print(names)\n",
        "\n",
        "# find the indices where \"names\" is equal to \"Gemini\"\n",
        "# save these indices in the array \"good\"\n",
        "good = np.where(names == \"Gemini\")\n",
        "print(good)\n",
        "\n",
        "\n",
        "# we could then use this index array for other functions\n",
        "#  for example, to print only these values\n",
        "print(names[good])"
      ],
      "metadata": {
        "id": "t_jveRvKSqhc"
      },
      "execution_count": null,
      "outputs": []
    },
    {
      "cell_type": "markdown",
      "source": [
        "It correctly tells us that index 0 and 5 in the array have values of \"Gemini."
      ],
      "metadata": {
        "id": "V9HdsYPmTuo1"
      }
    },
    {
      "cell_type": "markdown",
      "source": [
        "Try it for yourself! Add to the code below to find \\& print the values of `x` that are larger than 10 using the `np.where()` function."
      ],
      "metadata": {
        "id": "0YI8CVgAVAI2"
      }
    },
    {
      "cell_type": "code",
      "source": [
        "# make x array\n",
        "x = np.array([0, 5, 10, 15, 20])\n",
        "\n",
        "# add code here\n",
        "\n"
      ],
      "metadata": {
        "id": "s-il5gASVJO2"
      },
      "execution_count": null,
      "outputs": []
    },
    {
      "cell_type": "markdown",
      "source": [
        "## Step 5 - plotting subsamples"
      ],
      "metadata": {
        "id": "wvHP7OJ0WV2U"
      }
    },
    {
      "cell_type": "markdown",
      "source": [
        "Now, you're ready to use this function to select only stars with certain properties. We want to split the stars into two groups:\n",
        "1. nearby stars -- only stars with distances less than 30 pc\n",
        "2. far away stars -- only stars with distances of 30 pc or more\n",
        "\n",
        "Write some code below to find indices that correspond to each group, and then make a color-magnitude diagram for each group.\n"
      ],
      "metadata": {
        "id": "-DFCLC2BVXSz"
      }
    },
    {
      "cell_type": "code",
      "source": [
        "# code here\n",
        "\n"
      ],
      "metadata": {
        "id": "z0vzfjj1Wivm"
      },
      "execution_count": null,
      "outputs": []
    },
    {
      "cell_type": "markdown",
      "source": [
        "---\n",
        "## Questions\n",
        "1. What differences do you see between the plots? Look at the kinds of stars that show up, the numbers of stars that show up in different regions, and the properties of the main sequence stars.\n",
        "\n",
        "2. Why do you see these differences? Explain what could be causing each difference."
      ],
      "metadata": {
        "id": "BwFEXfDbSqow"
      }
    },
    {
      "cell_type": "code",
      "source": [
        "# write your answers here\n",
        "#\n",
        "#"
      ],
      "metadata": {
        "id": "y4ElK2GRWDeF"
      },
      "execution_count": null,
      "outputs": []
    },
    {
      "cell_type": "markdown",
      "source": [
        "---\n",
        "## Bonus [optional]\n",
        "\n",
        "If you have time left over, here are some more challenges. Choose any of these options to work on:\n",
        "\n",
        "*  Spruce up your color-magnitude plot from Step 5 by adding text labels for each region of the diagram (MS, giant, white dwarf...). To add text, use the `plt.text(x position, y position, text string)` command.\n",
        "\n",
        "\\\n",
        "\n",
        "* Add a new data point to your plots from Step 5 indicate where the Sun would be on these plots. The Sun has $M_V = 4.83$ mag and $M_B = 5.48$ mag. Make this point a different color so it stands out.\n",
        "\n",
        "\\\n",
        "\n",
        "* Try making the plots from Step 5 as two side-by-side panels in the same plot. An easy way to do this is with the `plt.subplot()` [function](https://matplotlib.org/stable/api/_as_gen/matplotlib.pyplot.subplot.html). Then, give each plot an informative title and different plot colors, so you can easily tell them apart.\n",
        "\n",
        "\\\n",
        "\n",
        "* Calculate the average distance, average color, and average absolute magnitude for the nearby stars (d < 30 pc). Repeat for the far away stars (d > 30 pc). How do their properties compare?\n",
        "\n",
        "\\\n",
        "\n",
        "* Try splitting the stars by the *fractional uncertainty* in their parallax. Make one plot with stars that have a fractional parallax uncertainty less than 30%, and the second plot with fractional uncertainty greater or equal to 30%. What differences do you see in these plots?\n",
        "\n",
        "\n"
      ],
      "metadata": {
        "id": "H5lSDi8gYSEI"
      }
    },
    {
      "cell_type": "code",
      "source": [
        "# optional code here\n",
        "\n"
      ],
      "metadata": {
        "id": "a8vLwqxPSGE1"
      },
      "execution_count": null,
      "outputs": []
    },
    {
      "cell_type": "markdown",
      "metadata": {
        "id": "TKFgKwIkBT0e"
      },
      "source": [
        "---\n",
        "## Final steps\n",
        "\n",
        "**Turning in your lab**\n",
        "\n",
        "If using Colab -- Click File --> Save a copy to Drive. Save the file to your shared Lab folder.\n",
        "\n",
        "\n",
        "If using Jupyter --\n",
        "Save this notebook to your computer, then upload it to your shared Lab folder in Google Drive."
      ]
    }
  ],
  "metadata": {
    "colab": {
      "provenance": [],
      "toc_visible": true
    },
    "kernelspec": {
      "display_name": "Python 3 (ipykernel)",
      "language": "python",
      "name": "python3"
    },
    "language_info": {
      "codemirror_mode": {
        "name": "ipython",
        "version": 3
      },
      "file_extension": ".py",
      "mimetype": "text/x-python",
      "name": "python",
      "nbconvert_exporter": "python",
      "pygments_lexer": "ipython3",
      "version": "3.9.12"
    }
  },
  "nbformat": 4,
  "nbformat_minor": 0
}
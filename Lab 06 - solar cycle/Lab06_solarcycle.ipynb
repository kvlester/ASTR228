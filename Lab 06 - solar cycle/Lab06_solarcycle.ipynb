{
  "nbformat": 4,
  "nbformat_minor": 0,
  "metadata": {
    "colab": {
      "provenance": [],
      "toc_visible": true
    },
    "kernelspec": {
      "name": "python3",
      "display_name": "Python 3"
    },
    "language_info": {
      "name": "python"
    }
  },
  "cells": [
    {
      "cell_type": "markdown",
      "source": [
        "# Lab 6 - Solar cycle\n",
        "\n",
        "In today's lab, you are going to analyze sunspot data to measure how long the solar cycyle lasts. Our data for today comes from the National Oceanic and Atmospheric Administration's [Space Weather Prediction Center](https://www.swpc.noaa.gov/products/solar-cycle-progression).\n",
        "\n",
        "\n",
        "Astronomy skills:\n",
        "- Signal period and frequency\n",
        "- Fourier transforms\n",
        "- Solar cycle\n",
        "\n",
        "Python skills:\n",
        "- reading in data from a file\n",
        "- finding maxima\n",
        "- Fourier transforms\n",
        "\n"
      ],
      "metadata": {
        "id": "upj7bLFrWVaH"
      }
    },
    {
      "cell_type": "markdown",
      "source": [
        "## Setup\n",
        "Start by importing the packages we'll need for this lab. The new packages are from SciPy and will help us do a Fourier transform."
      ],
      "metadata": {
        "id": "7_JuQKBUydny"
      }
    },
    {
      "cell_type": "code",
      "source": [
        "import numpy as np\n",
        "import matplotlib.pyplot as plt\n",
        "from scipy.fft import fft, fftfreq"
      ],
      "metadata": {
        "id": "GZVQWFAwxtcz"
      },
      "execution_count": null,
      "outputs": []
    },
    {
      "cell_type": "markdown",
      "source": [
        "## Step 1 - Read in the data\n",
        "\n",
        "Our goal is to find the period of the Sun's solar cycle, corresponding to how often the magnetic field flips. In the Lab 6 folder, there is a file called \"Lab06_sunspots.csv\", which tells us the average number of sunspots per month since 1750.\n",
        "\n",
        "- Read in this file\n",
        "\n",
        "- Make a plot for the number of sunspots over time. As per usual, make sure your plot has axis labels!\n",
        "\n"
      ],
      "metadata": {
        "id": "k8wEOxGCz4iG"
      }
    },
    {
      "cell_type": "code",
      "source": [
        "# code here\n"
      ],
      "metadata": {
        "id": "OkxW04yqFZl0"
      },
      "execution_count": null,
      "outputs": []
    },
    {
      "cell_type": "markdown",
      "source": [
        "Then, make a new plot that zooms in on the 2 or 3 most recent cycles."
      ],
      "metadata": {
        "id": "FQTS1ppuJokc"
      }
    },
    {
      "cell_type": "code",
      "source": [
        "# new plot here\n"
      ],
      "metadata": {
        "id": "7kEDUzElNhco"
      },
      "execution_count": null,
      "outputs": []
    },
    {
      "cell_type": "markdown",
      "source": [
        "**Question**: Based on your graph, estimate the period of the solar cycle and write your answer below."
      ],
      "metadata": {
        "id": "AymEOj2M32F4"
      }
    },
    {
      "cell_type": "code",
      "source": [
        "# answer here\n",
        "\n",
        "#"
      ],
      "metadata": {
        "id": "W_Cv1tK03-zT"
      },
      "execution_count": null,
      "outputs": []
    },
    {
      "cell_type": "markdown",
      "source": [
        "## Step 2 - Fourier transform\n",
        "\n",
        "Instead of estimating the period from the graph, we could do it numerically by finding the Fourier transform!\n",
        "\n",
        "\n",
        "We can recreate any period signal by adding a bunch of sine waves together. A Fourier transform finds the frequencies and strengths of the sine waves needed to build your signal.\n",
        "\n",
        "\n",
        "\n",
        "\n",
        "\n"
      ],
      "metadata": {
        "id": "hc4zF5T6FAGx"
      }
    },
    {
      "cell_type": "markdown",
      "source": [
        "### Example analysis\n",
        "\n",
        "\n",
        "Run the cell below to see an example of making a signal `y` by adding two sine waves together (a high amplitude, low frequency wave and a low amplitude, high frequency wave).\n",
        "\n"
      ],
      "metadata": {
        "id": "kyYBeWgU0DLa"
      }
    },
    {
      "cell_type": "code",
      "source": [
        "# create example data set\n",
        "x = np.arange(0, 20, 0.01)\n",
        "y1 = 5*np.sin(2*np.pi*0.1*x)    # wave with period = 10 s\n",
        "y2 = np.sin(2*np.pi*1*x)        # wave with period = 1 s\n",
        "\n",
        "# combine waves 1 and 2\n",
        "y = y1 + y2\n",
        "\n",
        "# plot the example curve\n",
        "plt.figure(figsize=(10,3))\n",
        "plt.plot(x, y)\n",
        "plt.xlabel('Time (s)')\n",
        "plt.show()"
      ],
      "metadata": {
        "id": "M8SwQVNItSz9"
      },
      "execution_count": null,
      "outputs": []
    },
    {
      "cell_type": "markdown",
      "source": [
        "If we run a Fourier transform on this new signal, it will tell us the frequencies and strengths (\"power\") of the two individual sine waves that created it.\n",
        "\n",
        "Before we get the Fourier transform, we need to set two variables -- the number of data points in the signal, and the time between two data points. Run the cell below to calculate these variables and the Fourier transform of our example data:\n"
      ],
      "metadata": {
        "id": "wRaC9TJau0FS"
      }
    },
    {
      "cell_type": "code",
      "source": [
        "# number of data points\n",
        "N = len(y)\n",
        "\n",
        "# time between data points\n",
        "dt = x[1] - x[0]\n",
        "\n",
        "# fourier transform\n",
        "ft = fft(y)                   # calculate fourier transform\n",
        "power = np.abs(ft)            # calculate power values\n",
        "frequency = fftfreq(N, d=dt)  # calculate frequency values\n",
        "\n",
        "# keep only the real (positive) frequency values\n",
        "frequency = frequency[1:N//2]\n",
        "power = power[1:N//2]"
      ],
      "metadata": {
        "id": "HQlHuei7tS2P"
      },
      "execution_count": null,
      "outputs": []
    },
    {
      "cell_type": "markdown",
      "source": [
        "We can then make a plot of power vs. frequency for this example curve. This kind of plot is called a \"power spectrum\". Write some code to make a power spectrum plot for our example data. (With axis labels, as always!)"
      ],
      "metadata": {
        "id": "hqRKyhgi0LWH"
      }
    },
    {
      "cell_type": "code",
      "source": [
        "# plot power spectrum here\n",
        "\n"
      ],
      "metadata": {
        "id": "28y1JGsavfl9"
      },
      "execution_count": null,
      "outputs": []
    },
    {
      "cell_type": "markdown",
      "source": [
        "The power spectrum for the example data show two peaks, $f_1=0.1 ~s^{-1}$ and $f_2=1.0 ~s^{-1}$. These are the frequencies of the two sine waves that make up the example curve. Frequency is cycles per unit time, while period is the time per cycle, so they are the inverse of each other:\n",
        "$$period = \\frac{1}{frequency}$$\n"
      ],
      "metadata": {
        "id": "MNYKm3GGQewv"
      }
    },
    {
      "cell_type": "code",
      "source": [
        "f1 = 0.1\n",
        "f2 = 1.0\n",
        "\n",
        "p1 = 1/f1\n",
        "p2 = 1/f2\n",
        "\n",
        "print(p1, 'seconds')\n",
        "print(p2, 'seconds')"
      ],
      "metadata": {
        "id": "Ufg62DKnY8Ve"
      },
      "execution_count": null,
      "outputs": []
    },
    {
      "cell_type": "markdown",
      "source": [
        "If your run the cell above, you'll see that these frequencies correspond to the expected periods of 1 and 10 seconds, which were used to make the example data."
      ],
      "metadata": {
        "id": "Sd0SS0WSZD1Q"
      }
    },
    {
      "cell_type": "markdown",
      "source": [
        "## Step 3 - Solar data analysis\n",
        "\n",
        "Now we can run a Fourier transform on our sunspot data set and it will find the frequency of the solar cycle, which you could then use to calculate the period.\n",
        "\n",
        "Read through the example code above to understand how you could apply it to your solar data. Then, use the example to:\n",
        "1. Calculate the Fourier transform of the sunspot data\n",
        "2. Plot the power spectrum\n",
        "3. Find the frequency where the peak power occurs (Numerically, not by eye! Look back at Lab 2 if you need a reminder)\n",
        "4. Calculate the period of the solar cycle from this frequency\n",
        "\n",
        "Don't forget to add comments!\n"
      ],
      "metadata": {
        "id": "gaBG3oeI0gIp"
      }
    },
    {
      "cell_type": "code",
      "source": [
        "# code here\n",
        "\n"
      ],
      "metadata": {
        "id": "7lCBeDZh0fXG"
      },
      "execution_count": null,
      "outputs": []
    },
    {
      "cell_type": "markdown",
      "source": [
        "**Self check:** Did you get a similar answer to your estimate from Step 1?  If not, check in with your neighbor to see what could be going wrong."
      ],
      "metadata": {
        "id": "pjTsSQshDoXB"
      }
    },
    {
      "cell_type": "markdown",
      "source": [
        "---\n",
        "## Questions\n",
        "1. How long does each solar cycle last?\n",
        "\n",
        "2. When do you think the next *two* solar maxima will be?\n",
        "\n",
        "3. If you look closely at your power spectrum, there is another peak at very low frequencies. Does this correspond to a short term or long term trend?  Can you see this trend in graph from Step 1?"
      ],
      "metadata": {
        "id": "JQy0qkdMQoqz"
      }
    },
    {
      "cell_type": "code",
      "source": [
        "# answer here\n",
        "\n",
        "# 1.\n",
        "\n",
        "# 2.\n",
        "\n",
        "# 3."
      ],
      "metadata": {
        "id": "tqxY1bsx4XB_"
      },
      "execution_count": null,
      "outputs": []
    },
    {
      "cell_type": "markdown",
      "source": [
        "## Bonus\n",
        "\n",
        "If you have time left over, here are two other things to work on:\n",
        "\n",
        "**Option 1** -- The file \"Lab06_flares.csv\" has the xray flux measured since 2004, which approximates the number of solar flares that occured. Repeat the Fourier transform analysis this data set to estimate the period of the solar cycle. Do you get a similar answer from flares as from sunspot number?\n"
      ],
      "metadata": {
        "id": "brYfvA1hI4kN"
      }
    },
    {
      "cell_type": "code",
      "source": [
        "# optional code here\n"
      ],
      "metadata": {
        "id": "X9Z5LEVgRovD"
      },
      "execution_count": null,
      "outputs": []
    },
    {
      "cell_type": "markdown",
      "source": [
        "**Option 2** -- Practice Fourier transforms using the \"Wave Game\" in this [simulation](https://phet.colorado.edu/sims/html/fourier-making-waves/latest/fourier-making-waves_all.html) to guess which frequencies and amplitudes are combined to make the given wave. (I recommend starting at Level 2, then working your way up to Level 3+)"
      ],
      "metadata": {
        "id": "hzfBoSGhD8vd"
      }
    },
    {
      "cell_type": "markdown",
      "source": [
        "---\n",
        "# Final steps\n",
        "\n",
        "**Turning in your lab**\n",
        "\n",
        "If using Colab -- Click File --> Save a copy to Drive. Save the file to your shared Lab folder.\n",
        "\n",
        "\n",
        "If using Jupyter --\n",
        "Save this notebook to your computer, then upload it to your shared Lab folder in Google Drive."
      ],
      "metadata": {
        "id": "iGIUQKscIl7E"
      }
    }
  ]
}
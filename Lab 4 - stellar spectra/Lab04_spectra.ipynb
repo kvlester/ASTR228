{
  "cells": [
    {
      "cell_type": "markdown",
      "metadata": {
        "id": "kWj3amstScZC"
      },
      "source": [
        "# Lab 4  -  stellar spectra\n",
        "\n",
        "In this lab, we're going to look at model spectra to find the temperatures of our mystery stars. The lab will walk you through Star 1, but you can repeat this analysis on Star 2 & 3 if you have time leftover.\n",
        "\n",
        "Make sure to read the instructions carefully, add comments to explain what your code is doing, and answer any written questions within the notebook.\n",
        "\n",
        "Astronomy skills:\n",
        "- absorption spectra\n",
        "- spectral types\n",
        "- chi-squared analysis\n",
        "\n",
        "Python skills:\n",
        "- making & customizing plots\n",
        "- array math\n"
      ]
    },
    {
      "cell_type": "markdown",
      "source": [
        "## Set up\n",
        "\n",
        "Download the zip file for this lab and unzip it. You should have the spectra for different spectral types and the observed spectra for 3 mystery stars. These are .csv files with columns:\n",
        "\n",
        "- Wavelength -- units of nm\n",
        "\n",
        "- Normalized Flux -- the fluxes have been \"continuum normalized\", meaning that the overall blackbody shape has been divided out.\n",
        "\n",
        "- Error -- the uncertainty in the normalized flux values (for mystery stars only)\n",
        "\n",
        "(Reminder to upload all these files into Colab so you can use them!)\n",
        "\n",
        "\\\n",
        "\n",
        "Run the cell below to read in the packages you'll need for this lab."
      ],
      "metadata": {
        "id": "uaqDecfUHm8E"
      }
    },
    {
      "cell_type": "code",
      "source": [
        "import numpy as np\n",
        "import matplotlib.pyplot as plt\n",
        "%matplotlib inline"
      ],
      "metadata": {
        "id": "CsWo4MVeHhJt"
      },
      "execution_count": null,
      "outputs": []
    },
    {
      "cell_type": "markdown",
      "source": [
        "# Star 1"
      ],
      "metadata": {
        "id": "AxMwPuYqnico"
      }
    },
    {
      "cell_type": "markdown",
      "source": [
        "## Step 1 - observed spectrum\n",
        "\n",
        "Let's start with Star 1.\n",
        "\n",
        "1. Read in the data for Star 1 (\"Star1.csv\")\n",
        "2. Make a plot of the spectrum, with axis labels!\n",
        "\n",
        "Note, we normally do not plot [error bars](https://matplotlib.org/stable/api/_as_gen/matplotlib.pyplot.errorbar.html#matplotlib.pyplot.errorbar) with spectra because they make the plot very hard to read. But you're welcome to make a separate plot to see what it looks like!\n",
        "\n"
      ],
      "metadata": {
        "id": "H4-82arRhT2Z"
      }
    },
    {
      "cell_type": "code",
      "source": [
        "# code here\n",
        "\n"
      ],
      "metadata": {
        "id": "cEVfpBGWHhSE"
      },
      "execution_count": null,
      "outputs": []
    },
    {
      "cell_type": "markdown",
      "source": [
        "**Question**: Choose 2-3 of the strongest absorption lines that you see in the spectrum and list their wavelengths below.\n",
        "\n",
        "(Pro tip: you can show the minor tick marks in your plot above by adding `plt.minorticks_on()`. This will help!)"
      ],
      "metadata": {
        "id": "8IepfRBYlibn"
      }
    },
    {
      "cell_type": "code",
      "source": [
        "# answer here\n",
        "\n",
        "#"
      ],
      "metadata": {
        "id": "gPatF4A_lyVv"
      },
      "execution_count": null,
      "outputs": []
    },
    {
      "cell_type": "markdown",
      "source": [
        "## Step 2 - model spectra\n",
        "\n",
        "Now let's look at the model spectra for different spectral types: B, A, F, G, and K\n",
        "\n",
        "1. Read in the spectrum for each spectral type. Note, each data set should have unique/informative names for convenience.\n",
        "2. Make one plot with all 5 spectra on it."
      ],
      "metadata": {
        "id": "4GZQZxfrIshC"
      }
    },
    {
      "cell_type": "code",
      "source": [
        "# code here\n",
        "\n"
      ],
      "metadata": {
        "id": "ttaMem-vLiyL"
      },
      "execution_count": null,
      "outputs": []
    },
    {
      "cell_type": "markdown",
      "source": [
        "At first, the spectra might overlap with each other and look horrible!\n",
        "3. Modify your plot so you can easily see all of the spectra at the same time. (How could you do this?)\n",
        "\n"
      ],
      "metadata": {
        "id": "Y2fp9cFQtQlG"
      }
    },
    {
      "cell_type": "markdown",
      "source": [
        "Now let's make it prettier...\n",
        "4. Change the plot color of each spectral type to better match what color it would appear to our eyes. (Though you should avoid white! Pick a light color instead.) [Here](https://matplotlib.org/stable/gallery/color/named_colors.html#css-colors) is a list of color names, and an example:\n",
        "```\n",
        "plt.plot(x, y, color=\"darkviolet\")\n",
        "```"
      ],
      "metadata": {
        "id": "cpALI-OvtOv2"
      }
    },
    {
      "cell_type": "markdown",
      "source": [
        "**Question**:\n",
        "How does the strength of the Hydrogen 486.1 nm line vary as a function of temperature? Explain how the appearance changes from the hottest spectral type to the coolest."
      ],
      "metadata": {
        "id": "jkM7AkgmpTES"
      }
    },
    {
      "cell_type": "code",
      "source": [
        "# answer here\n",
        "\n",
        "#"
      ],
      "metadata": {
        "id": "Rihq7GgPoxMj"
      },
      "execution_count": null,
      "outputs": []
    },
    {
      "cell_type": "markdown",
      "source": [
        "## Step 3 - $\\chi^2$ analysis\n",
        "\n",
        "We could compare Star 1's spectrum to the models by eye and guess which spectral type it is. But the more accurate way would be to mathematically compare how well each model spectrum matches the spectrum of Star 1, using the chi-squared ($\\chi^2$) statistic:\n",
        "$$\\chi^2 = \\sum \\frac{(y_{data} - y_{model})^2}{\\sigma_y~^2}$$\n",
        "\n",
        "where $y_{data}$ is the observed data array, $\\sigma_y$ is its error, and $y_{model}$ is the model data.\n",
        "\n",
        "This statistic calculates how *different* two data sets are, so the best fitting model is going to have the *lowest* $\\chi^2$ value."
      ],
      "metadata": {
        "id": "1fKmogsBhrDT"
      }
    },
    {
      "cell_type": "markdown",
      "source": [
        "Calculate the $\\chi^2$ value for Star 1 compared to the  model of the B-type star."
      ],
      "metadata": {
        "id": "ye4vfeyXilIc"
      }
    },
    {
      "cell_type": "code",
      "source": [
        "# calculate chi2 of B star model\n",
        "\n"
      ],
      "metadata": {
        "id": "_LjT94sAipli"
      },
      "execution_count": null,
      "outputs": []
    },
    {
      "cell_type": "markdown",
      "source": [
        "As a self check, you should get a value of 5256.\n",
        "\n",
        "If you didn't get this value, talk to your neighbor to see what could be going wrong!\n",
        "\n",
        "Once you do, then calculate the $\\chi^2$ values for the other spectral types. (Make sure to add comments!)\n",
        "\n"
      ],
      "metadata": {
        "id": "3kUoy210ipQC"
      }
    },
    {
      "cell_type": "code",
      "source": [
        "# code here\n",
        "\n"
      ],
      "metadata": {
        "id": "G3Tofq9-jWKQ"
      },
      "execution_count": null,
      "outputs": []
    },
    {
      "cell_type": "markdown",
      "source": [
        "**Question**: What spectral type is Star 1?"
      ],
      "metadata": {
        "id": "Hn1JGq35jqJU"
      }
    },
    {
      "cell_type": "code",
      "source": [
        "# answer here\n",
        "\n",
        "#"
      ],
      "metadata": {
        "id": "P25If5GZjvaC"
      },
      "execution_count": null,
      "outputs": []
    },
    {
      "cell_type": "markdown",
      "source": [
        "## Step 4 - plot the best fit\n",
        "\n",
        "Make a plot of Star 1's spectrum and the best fitting model to see how well they match."
      ],
      "metadata": {
        "id": "94IaA-Jgjxhw"
      }
    },
    {
      "cell_type": "code",
      "source": [
        "# plot here\n",
        "\n"
      ],
      "metadata": {
        "id": "eaG6JAqPj0-m"
      },
      "execution_count": null,
      "outputs": []
    },
    {
      "cell_type": "markdown",
      "source": [
        "# Questions\n",
        "1. Using the values on [this website](https://sites.uni.edu/morgans/astro/course/Notes/section2/spectraltemps.html), roughly what effective temperature does Star 1 have?\n",
        "\n",
        "2. How could you narrow down the spectral type to a certain subtype (0-9)? Explain what other data, models, and/or analysis you would need.\n"
      ],
      "metadata": {
        "id": "BwFEXfDbSqow"
      }
    },
    {
      "cell_type": "code",
      "source": [
        "# write your answers here\n",
        "\n",
        "# 1.\n",
        "\n",
        "# 2.\n"
      ],
      "metadata": {
        "id": "y4ElK2GRWDeF"
      },
      "execution_count": null,
      "outputs": []
    },
    {
      "cell_type": "markdown",
      "source": [
        "# Bonus [optional]\n",
        "\n",
        "If you have time leftover:\n",
        "- write a python function to calculate chi-squared, instead of doing the math by hand\n",
        "\n",
        "\n",
        "- repeat this process for Star 2 and Star 3 to find their spectral types and temperatures"
      ],
      "metadata": {
        "id": "H5lSDi8gYSEI"
      }
    },
    {
      "cell_type": "code",
      "source": [
        "# optional code here\n",
        "\n"
      ],
      "metadata": {
        "id": "peJOin7eZxJb"
      },
      "execution_count": null,
      "outputs": []
    },
    {
      "cell_type": "markdown",
      "metadata": {
        "id": "TKFgKwIkBT0e"
      },
      "source": [
        "---\n",
        "# Final steps\n",
        "\n",
        "**Turning in your lab**\n",
        "\n",
        "If using Colab -- Click File --> Save a copy to Drive. Save the file to your shared Lab folder.\n",
        "\n",
        "\n",
        "If using Jupyter --\n",
        "Save this notebook to your computer, then upload it to your shared Lab folder in Google Drive."
      ]
    }
  ],
  "metadata": {
    "colab": {
      "provenance": [],
      "toc_visible": true
    },
    "kernelspec": {
      "display_name": "Python 3 (ipykernel)",
      "language": "python",
      "name": "python3"
    },
    "language_info": {
      "codemirror_mode": {
        "name": "ipython",
        "version": 3
      },
      "file_extension": ".py",
      "mimetype": "text/x-python",
      "name": "python",
      "nbconvert_exporter": "python",
      "pygments_lexer": "ipython3",
      "version": "3.9.12"
    }
  },
  "nbformat": 4,
  "nbformat_minor": 0
}
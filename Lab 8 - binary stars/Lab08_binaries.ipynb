{
  "cells": [
    {
      "cell_type": "markdown",
      "metadata": {
        "id": "kWj3amstScZC"
      },
      "source": [
        "# Lab 8  -  Spectroscopic binary star\n",
        "\n",
        "In this lab you will look at the orbit of a spectroscopic binary star! Make sure to read the instructions carefully and answer any written questions within the notebook.\n",
        "\n",
        "\n",
        "Astronomy skills:\n",
        "- binary stars\n",
        "- stellar masses\n",
        "\n",
        "\n",
        "Python skills:\n",
        "- calling functions\n",
        "\n",
        "\n",
        "\n",
        "\n",
        "\n"
      ]
    },
    {
      "cell_type": "markdown",
      "source": [
        "## Set up\n",
        "Run the cell below to read in the packages you'll need for this lab."
      ],
      "metadata": {
        "id": "uaqDecfUHm8E"
      }
    },
    {
      "cell_type": "code",
      "source": [
        "import numpy as np\n",
        "import matplotlib.pyplot as plt\n",
        "%matplotlib inline"
      ],
      "metadata": {
        "id": "CsWo4MVeHhJt"
      },
      "execution_count": null,
      "outputs": []
    },
    {
      "cell_type": "markdown",
      "source": [
        "## Intro to python functions\n",
        "\n",
        "We are going to practice using a pre-written python \"function\" in this lab.\n",
        "\n",
        "In general, functions are predefined blocks of code that take input options and produce specific outputs. They are very useful if you need to do the same calculation several times, so you only have to write the code once and then \"call\" the function each time you want to use it. You call the function with specific input information, then the function will give back the answer as an output.\n",
        "\n",
        "To write a function, you need to give your function a name, tell it what the input variable(s) should be, and tell it what variable(s) should be output.\n",
        "```\n",
        "def function_name(input):\n",
        "    code to do stuff\n",
        "    code to do stuff\n",
        "    code to do stuff  \n",
        "    return(output)\n",
        "```\n",
        "\n",
        "\n",
        "\n",
        "Then you can execute the function to get the output:\n",
        "```\n",
        "output = function_name(input)\n",
        "```\n",
        "\n",
        "The cell below shows an example of a function that we will be using for this lab."
      ],
      "metadata": {
        "id": "TuG1ZaAVHDRR"
      }
    },
    {
      "cell_type": "markdown",
      "source": [
        "## Step 1 - Model radial velocity curve\n",
        "\n",
        "We measure how the radial velocities vary over time and define several \"orbital parameters\":\n",
        "- **center of mass velocity** (V0) = speed the entire system is moving relative to Earth\n",
        "- **velocity semiamplitudes** (K1, K2) = max speed of each star relative to the center of mass\n",
        "- **orbital period** (P) = time it takes to orbit once\n",
        "\n",
        "If you specifiy each of these parameters, you could predict how fast each star would move in it's orbit.\n",
        "\n",
        "The function below does exactly that -- if you input the period, systemic velocity, and velocity semiamplitudes, the function will tell you what the RV of star 1 and star 2 would be. Run the cell below so python learns the function.\n"
      ],
      "metadata": {
        "id": "asiJAqaZHvzb"
      }
    },
    {
      "cell_type": "code",
      "source": [
        "# function to calculate RV of a binary system for given orbital parameters\n",
        "#   (note, this is only for circular orbits!)\n",
        "\n",
        "def model_RV(time, period, V0, K1, K2):\n",
        "    rv1 = K1 * np.cos(2*np.pi*time/period) + V0\n",
        "    rv2 = -1* K2 * np.cos(2*np.pi*time/period) + V0\n",
        "    return(rv1, rv2)\n"
      ],
      "metadata": {
        "id": "jrshGfKq93Jv"
      },
      "execution_count": null,
      "outputs": []
    },
    {
      "cell_type": "markdown",
      "source": [
        "Now we can test the function! Complete the middle line of code to call the `model_RV` function and get back the velocities of a fake binary system (in variables called `model_rv1` and `model_rv2`)."
      ],
      "metadata": {
        "id": "Y38dpgP0K-ce"
      }
    },
    {
      "cell_type": "code",
      "source": [
        "# time of fake osbervations in years\n",
        "model_time = np.arange(0, 10, 0.01)\n",
        "\n",
        "\n",
        "# ****************\n",
        "\n",
        "# ORBITAL PARAMETERS\n",
        "# orbital period in years\n",
        "period = 5\n",
        "\n",
        "# center of mass velocity in km/s\n",
        "V0 = 0\n",
        "\n",
        "# velocity semiamplitude of star 1 in km/s\n",
        "K1 = 50\n",
        "\n",
        "# velocity semiamplitude of star 2 in km/s\n",
        "K2 = 70\n",
        "\n",
        "\n",
        "# MODEL RADIAL VELOCITIES\n",
        "# complete this line of code:\n",
        "model_rv1, model_rv2 = model_RV(model_time,    )\n",
        "\n",
        "# ****************\n",
        "\n",
        "\n",
        "# plot RV curve\n",
        "plt.plot(model_time, model_rv1, label='Star 1')\n",
        "plt.plot(model_time, model_rv2, label='Star 2')\n",
        "plt.ylim(-150, 150)\n",
        "plt.xlabel('Time (years)')\n",
        "plt.ylabel('RV (km/s)')\n",
        "plt.legend()\n"
      ],
      "metadata": {
        "id": "oc2I2FJ7-M_w"
      },
      "execution_count": null,
      "outputs": []
    },
    {
      "cell_type": "markdown",
      "source": [
        "**Questions**\n",
        "1. Try a few different values for the orbital period (anything between 1-10 years), then describe how the the shape of the RV curve changes when you increase the orbital period."
      ],
      "metadata": {
        "id": "N1uY75NeEK8H"
      }
    },
    {
      "cell_type": "code",
      "source": [
        "# answer here\n",
        "\n"
      ],
      "metadata": {
        "id": "S2kdXx7Z-NDB"
      },
      "execution_count": null,
      "outputs": []
    },
    {
      "cell_type": "markdown",
      "source": [
        "2. Try a few different values for the center of mass velocity (anything between -100 to 100 km/s), then describe how the the shape of the RV curve changes when you increase this value."
      ],
      "metadata": {
        "id": "pPGkBnMREzD5"
      }
    },
    {
      "cell_type": "code",
      "source": [
        "# answer here\n",
        "\n"
      ],
      "metadata": {
        "id": "9Ad2DGO3-NGZ"
      },
      "execution_count": null,
      "outputs": []
    },
    {
      "cell_type": "markdown",
      "source": [
        "3. Try a few different values for the velocity semiamplitudes of each star (anything between 1 to 100 km/s), then describe how the the shape of the RV curve changes when you increase the semiamplitudes."
      ],
      "metadata": {
        "id": "2qhtJKm-FFnl"
      }
    },
    {
      "cell_type": "code",
      "source": [
        "# answer here\n",
        "\n"
      ],
      "metadata": {
        "id": "VfCrpencFUKQ"
      },
      "execution_count": null,
      "outputs": []
    },
    {
      "cell_type": "markdown",
      "source": [
        "## Step 2 - Observed data\n",
        "\n",
        "The file \"binary_RV.csv\" in the lab folder contains the measured radial velocities for a real binary star over time.\n",
        "\n",
        "1. Read in the data file\n",
        "\n",
        "2. Make a scatter plot of the RV curve for both stars (on the same plot). Make sure your plot has axis labels!\n",
        "\n",
        "3. [optional bonus] Give your plot a legend so you know which star is which."
      ],
      "metadata": {
        "id": "dC12eFnkFXFX"
      }
    },
    {
      "cell_type": "code",
      "source": [
        "# code here\n",
        "\n"
      ],
      "metadata": {
        "id": "qo_3ZaHYGlGX"
      },
      "execution_count": null,
      "outputs": []
    },
    {
      "cell_type": "markdown",
      "source": [
        "**Question:** Based on the graph, do the two stars have the same max speed? What does this tell us about their masses?"
      ],
      "metadata": {
        "id": "eu2OM5vl_ny6"
      }
    },
    {
      "cell_type": "code",
      "source": [
        "# answer here\n",
        "\n",
        "#"
      ],
      "metadata": {
        "id": "URMW2HMQ_uh1"
      },
      "execution_count": null,
      "outputs": []
    },
    {
      "cell_type": "markdown",
      "source": [
        "## Step 3 - fitting the data\n",
        "\n",
        "Let's put it all together!\n",
        "\n",
        "1. Copy your plot of the observed RV curve from Step 2 into the cell below\n",
        "\n",
        "2. From the code in Step 1, copy the lines between the asterisks into the cell below.\n",
        "\n",
        "3. Update the function to use the time array of the observed data as an input.\n",
        "\n",
        "4. Update the plot to overplot the model RVs on top of the observed RVs\n",
        "\n",
        "5. Test different values of period, V0, K1, and K2 to find the best fit for the observed data.\n"
      ],
      "metadata": {
        "id": "riKbPmUEPkM4"
      }
    },
    {
      "cell_type": "code",
      "source": [
        "# code here\n",
        "\n",
        "\n"
      ],
      "metadata": {
        "id": "UEsxFEX1QJnK"
      },
      "execution_count": null,
      "outputs": []
    },
    {
      "cell_type": "markdown",
      "metadata": {
        "id": "o3hM4AvgIOJY"
      },
      "source": [
        "## Step 4 - stellar masses\n",
        "Now you can calculate the masses of the two stars in the binary system! We know that the ratio of the velocity amplitudes is inversely related to the ratio of the masses:\n",
        "$$\\frac{m_2}{m_1} = \\frac{K_1}{K_2}$$\n",
        "\n",
        "and the total mass is related to orbital period and semimajor axis by Kepler's 3rd Law:\n",
        "$$(m_1+m_2) P^2 = a^3$$\n",
        "\n",
        "Write some code to calculate and print out:\n",
        "- the mass ratio of the binary\n",
        "- the total mass, assuming the total semimajor axis (a) is 3 AU\n"
      ]
    },
    {
      "cell_type": "code",
      "source": [
        "# code here\n"
      ],
      "metadata": {
        "id": "RIDCW9MbRINI"
      },
      "execution_count": null,
      "outputs": []
    },
    {
      "cell_type": "markdown",
      "source": [
        "Finally, calculate the individual masses of the two stars by solving this system of equations. This is probably easiest to do by hand, so just write your answers below."
      ],
      "metadata": {
        "id": "wYKKm-2fGV4F"
      }
    },
    {
      "cell_type": "code",
      "source": [
        "# answer here\n",
        "\n",
        "# M1 =\n",
        "\n",
        "# M2 ="
      ],
      "metadata": {
        "id": "Kv7ZHiXUGi_K"
      },
      "execution_count": null,
      "outputs": []
    },
    {
      "cell_type": "markdown",
      "metadata": {
        "id": "TKFgKwIkBT0e"
      },
      "source": [
        "---\n",
        "## Final steps\n",
        "\n",
        "**Turning in your lab**\n",
        "\n",
        "If using Colab -- Click File --> Save a copy to Drive. Save the file to your shared Lab folder.\n",
        "\n",
        "\n",
        "If using Jupyter --\n",
        "Save this notebook to your computer, then upload it to your shared Lab folder in Google Drive."
      ]
    }
  ],
  "metadata": {
    "colab": {
      "provenance": [],
      "toc_visible": true
    },
    "kernelspec": {
      "display_name": "Python 3 (ipykernel)",
      "language": "python",
      "name": "python3"
    },
    "language_info": {
      "codemirror_mode": {
        "name": "ipython",
        "version": 3
      },
      "file_extension": ".py",
      "mimetype": "text/x-python",
      "name": "python",
      "nbconvert_exporter": "python",
      "pygments_lexer": "ipython3",
      "version": "3.9.12"
    }
  },
  "nbformat": 4,
  "nbformat_minor": 0
}